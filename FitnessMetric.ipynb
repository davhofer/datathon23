{
 "nbformat": 4,
 "nbformat_minor": 0,
 "metadata": {
  "colab": {
   "provenance": []
  },
  "kernelspec": {
   "name": "python3",
   "display_name": "Python 3"
  },
  "language_info": {
   "name": "python"
  }
 },
 "cells": [
  {
   "cell_type": "markdown",
   "source": [
    "# FitnessMetric"
   ],
   "metadata": {
    "collapsed": false,
    "pycharm": {
     "name": "#%% md\n"
    }
   }
  },
  {
   "cell_type": "markdown",
   "source": [
    "## Setup and Data Preperation"
   ],
   "metadata": {
    "id": "uoehxKZBEvK2",
    "pycharm": {
     "name": "#%% md\n"
    }
   }
  },
  {
   "cell_type": "code",
   "source": [
    "import pandas as pd\n",
    "import numpy as np\n",
    "import os\n",
    "from data import *"
   ],
   "metadata": {
    "id": "P0ggi3S8UWYg",
    "pycharm": {
     "name": "#%%\n"
    }
   },
   "execution_count": null,
   "outputs": []
  },
  {
   "cell_type": "code",
   "execution_count": null,
   "outputs": [],
   "source": [
    "df_trainings = pd.read_csv('trainings.csv')"
   ],
   "metadata": {
    "collapsed": false,
    "pycharm": {
     "name": "#%%\n"
    }
   }
  },
  {
   "cell_type": "code",
   "execution_count": null,
   "outputs": [],
   "source": [
    "new_features = pd.read_csv('new_features.csv')"
   ],
   "metadata": {
    "collapsed": false,
    "pycharm": {
     "name": "#%%\n"
    }
   }
  },
  {
   "cell_type": "code",
   "execution_count": null,
   "outputs": [],
   "source": [
    "features = new_features.merge(df_trainings, on='training_id', how='left')"
   ],
   "metadata": {
    "collapsed": false,
    "pycharm": {
     "name": "#%%\n"
    }
   }
  },
  {
   "cell_type": "code",
   "execution_count": null,
   "outputs": [],
   "source": [
    "features = pd.read_csv('merged.csv')"
   ],
   "metadata": {
    "collapsed": false,
    "pycharm": {
     "name": "#%%\n"
    }
   }
  },
  {
   "cell_type": "code",
   "execution_count": null,
   "outputs": [],
   "source": [
    "features['start_date'] = pd.to_datetime(features['start_date'])"
   ],
   "metadata": {
    "collapsed": false,
    "pycharm": {
     "name": "#%%\n"
    }
   }
  },
  {
   "cell_type": "code",
   "execution_count": null,
   "outputs": [],
   "source": [
    "default_date = '2020-01-01 00:00:00'\n",
    "default_user = 'b9c3a54f8d5837e88a86bdb47eee432218aa2530012afaca527b29e662e20cb6'#'0638ef6493b8192ade0e0d8429306b7685fe1191cc6e1337fab13521922cf226'\n",
    "default_training = 'f53cad390efa69cae1d05ed39f60c82f65861dfadb8f41867f0a96fa806a26be'"
   ],
   "metadata": {
    "collapsed": false,
    "pycharm": {
     "name": "#%%\n"
    }
   }
  },
  {
   "cell_type": "code",
   "execution_count": null,
   "outputs": [],
   "source": [
    "features['day'] = pd.to_datetime(features['start_date']).dt.dayofyear\n",
    "features['days_discount'] = 365 - features['day']\n",
    "features = features.sort_values(by=['user_id', 'days_discount'], ascending=False)"
   ],
   "metadata": {
    "collapsed": false,
    "pycharm": {
     "name": "#%%\n"
    }
   }
  },
  {
   "cell_type": "markdown",
   "source": [
    "## Metric Calculation"
   ],
   "metadata": {
    "collapsed": false,
    "pycharm": {
     "name": "#%% md\n"
    }
   }
  },
  {
   "cell_type": "code",
   "execution_count": null,
   "outputs": [],
   "source": [
    "#\n",
    "# this function calculates the Cardiovascular Efficiency\n",
    "#\n",
    "def calculate_CVE(df_features, training_id):\n",
    "    run = df_features[df_features['training_id'] == training_id]\n",
    "    user_id = run['user_id'].values[0]\n",
    "    # get the max heart rate of that person\n",
    "    max_hr = df_features[df_features['user_id'] == user_id]['hr_max'].max()\n",
    "    max_hr = max_hr\n",
    "    mean_hr = run['hr_mean'].values[0]\n",
    "    hr_dist = max_hr - mean_hr\n",
    "    split_avg = 1/run['speed_mean_30s'].values[0] * 50 / 3\n",
    "    return hr_dist/split_avg/5\n",
    "# calculate the CVE for all the runs\n",
    "features['CVE'] = 0\n",
    "for training_id in features['training_id'].unique():\n",
    "    CVE = calculate_CVE(features, training_id)\n",
    "    features.loc[features['training_id'] == training_id, 'CVE'] = CVE\n",
    "#\n",
    "# this calculates the Training Load\n",
    "#\n",
    "features['duration_h'] = features['duration'] / 60  / 60\n",
    "#\n",
    "# this calculates the Discounted Values after every Training\n",
    "#\n",
    "# discount factor based on the days since the run (Research Value)\n",
    "factor = 0.995\n",
    "# fill na with mean of user\n",
    "features['CVE'] = features.groupby('user_id')['CVE'].fillna(features['CVE'].mean())\n",
    "features['duration_h'] = features.groupby('user_id')['duration_h'].fillna(features['duration_h'].mean())\n",
    "# for every person change the first fitness to 0\n",
    "features['CVE'] = features.groupby('user_id')['CVE'].shift(1)\n",
    "features['duration_h'] = features.groupby('user_id')['duration_h'].shift(1)\n",
    "# for every person fill the NaN with 25% percentile\n",
    "features['CVE'] = features.groupby('user_id')['CVE'].apply(lambda x: x.fillna(x.quantile(0.5)*67))\n",
    "features['duration_h'] = features.groupby('user_id')['duration_h'].apply(lambda x: x.fillna(x.quantile(0.5)*67))\n",
    "# calculate the training_score for all the runs\n",
    "features['CVE_discounted'] = features['CVE'] * factor**features['days_discount']\n",
    "features['CVE_discounted_cumsum'] = features.groupby('user_id')['CVE_discounted'].cumsum()\n",
    "features['Total_CVE'] = features['CVE_discounted_cumsum'] / factor**features['days_discount']\n",
    "features['duration_h_discounted'] = features['duration_h'] * factor**features['days_discount']\n",
    "features['duration_h_discounted_cumsum'] = features.groupby('user_id')['duration_h_discounted'].cumsum()\n",
    "features['Training_Load'] = features['duration_h_discounted_cumsum'] / factor**features['days_discount']\n",
    "# Personal Training Effectiveness (PTE)\n",
    "features['PTE'] = features['Total_CVE'] - features['Training_Load']\n",
    "# only keep the difference, fitness_duration and fitness_CVE of the prev added features\n",
    "plot_features = features[['start_date','training_id', 'user_id', 'type', 'PTE', 'Training_Load', 'Total_CVE']]"
   ],
   "metadata": {
    "collapsed": false,
    "pycharm": {
     "name": "#%%\n"
    }
   }
  },
  {
   "cell_type": "markdown",
   "source": [
    "## Plot the fitness of selected users"
   ],
   "metadata": {
    "collapsed": false,
    "pycharm": {
     "name": "#%% md\n"
    }
   }
  },
  {
   "cell_type": "code",
   "execution_count": null,
   "outputs": [],
   "source": [
    "random_users = plot_features['user_id'].unique()[0:10]"
   ],
   "metadata": {
    "collapsed": false,
    "pycharm": {
     "name": "#%%\n"
    }
   }
  },
  {
   "cell_type": "code",
   "execution_count": null,
   "outputs": [],
   "source": [
    "import matplotlib.pyplot as plt\n",
    "# now plot it for 10 randomly selected users\n",
    "for user in random_users:\n",
    "    # plot_features[plot_features['user_id'] == user].plot(x='start_date', y=['Training_Load', 'Total_CVE', 'PTE'], figsize=(20, 10))\n",
    "\n",
    "\n",
    "    # Plot the data\n",
    "    fig, ax1 = plt.subplots(figsize=(20, 10))\n",
    "\n",
    "    plot_features[plot_features['user_id'] == user].plot(x='start_date', y=['Training_Load', 'Total_CVE'], ax=ax1)\n",
    "    ax1.set_xlabel('Start Date')\n",
    "    ax1.set_ylabel('Training Load and Total CVE')\n",
    "    ax1.tick_params('y')\n",
    "\n",
    "    ax2 = ax1.twinx()\n",
    "    plot_features[plot_features['user_id'] == user].plot(x='start_date', y='PTE', ax=ax2, color='tab:green')\n",
    "    ax2.set_ylabel('PTE')\n",
    "    ax2.tick_params('y')\n",
    "\n",
    "    plt.xlabel('Day')\n",
    "    plt.ylabel('Fitness')\n",
    "    plt.title('Fitness vs. Day' + ' User_ID: ' + user)\n",
    "    # make directory if not exists\n",
    "    directory = \"fitness_plots\"\n",
    "    if not os.path.exists(directory):\n",
    "        os.makedirs(directory)\n",
    "    # save in directory\n",
    "    plt.savefig(directory + '/' + user + '.png')\n",
    "\n",
    "\n",
    "    plt.show()"
   ],
   "metadata": {
    "collapsed": false,
    "pycharm": {
     "name": "#%%\n"
    }
   }
  }
 ]
}